{
 "cells": [
  {
   "cell_type": "markdown",
   "id": "65041b8d-bebc-4e90-9c26-f6ac3deebca3",
   "metadata": {},
   "source": [
    "# Top Respositories for GitHub Topics Web Scraping Project"
   ]
  },
  {
   "cell_type": "markdown",
   "id": "1bb409f7-a342-41c9-bb66-d6163c41f397",
   "metadata": {},
   "source": [
    "## Pick a website and describe your objective\n",
    "- Browse through different sites and pick on to scrape.\r",
    "- \n",
    "Identify the information you'd like to scrape from the site\n",
    "-  Decide the format of the output CSV file \r\n",
    "Summarize your project idea and outline your strategy in a Juptyer notebook. Use the \"New\" button above.\n",
    "\r\n"
   ]
  },
  {
   "cell_type": "markdown",
   "id": "246be425-3498-4458-893a-5ff847c41dac",
   "metadata": {
    "jp-MarkdownHeadingCollapsed": true
   },
   "source": [
    "### Outline:\n",
    "\n",
    "- I'm going to scrape https://github.com/topics\n",
    "- I'll get a list of topics. For each topic I would like to extract its title, its url, topic description too.\n",
    "- I would also like to scrape the top 20 repositories for each topic which will include:\n",
    "  1. Repository Name\n",
    "  2. Username\n",
    "  3. Stars\n",
    "  4. URL"
   ]
  },
  {
   "cell_type": "markdown",
   "id": "3e448f8b-a894-4927-8c27-14ceee183e6c",
   "metadata": {},
   "source": [
    "## Use the requests library to download web pages\n",
    "\r",
    "- Inspect the website's HTML source and identify the right URLs to download.\r",
    "- \n",
    "Download and save web pages locally using the requests library\n",
    "- \r\n",
    "Create a function to automate downloading for different topics/search queries\n",
    "\r\n"
   ]
  },
  {
   "cell_type": "code",
   "execution_count": 5,
   "id": "82ae64a0-f09c-42f0-be5b-ae5f4597d8f3",
   "metadata": {},
   "outputs": [
    {
     "name": "stderr",
     "output_type": "stream",
     "text": [
      "\n",
      "[notice] A new release of pip is available: 23.2.1 -> 24.0\n",
      "[notice] To update, run: python.exe -m pip install --upgrade pip\n"
     ]
    }
   ],
   "source": [
    "!pip install requests --upgrade --quiet"
   ]
  },
  {
   "cell_type": "code",
   "execution_count": 6,
   "id": "f54219c8-6565-4eb5-97be-101046fc74cd",
   "metadata": {},
   "outputs": [],
   "source": [
    "import requests"
   ]
  },
  {
   "cell_type": "code",
   "execution_count": 7,
   "id": "eda4e6f4-3a57-4e61-aadb-6f6486c9a862",
   "metadata": {},
   "outputs": [],
   "source": [
    "topics_url = 'https://github.com/topics'"
   ]
  },
  {
   "cell_type": "code",
   "execution_count": 8,
   "id": "7af3f4a8-114a-4387-9c3a-86f598888419",
   "metadata": {},
   "outputs": [],
   "source": [
    "response = requests.get(topics_url)"
   ]
  },
  {
   "cell_type": "code",
   "execution_count": 9,
   "id": "cb717cac-65a4-451e-83a5-d78b3b1309ba",
   "metadata": {},
   "outputs": [
    {
     "data": {
      "text/plain": [
       "200"
      ]
     },
     "execution_count": 9,
     "metadata": {},
     "output_type": "execute_result"
    }
   ],
   "source": [
    "response.status_code"
   ]
  },
  {
   "cell_type": "code",
   "execution_count": 10,
   "id": "1dcdbe1a-62e0-4aa6-a588-9c65e1d87204",
   "metadata": {},
   "outputs": [],
   "source": [
    "page_content = response.text"
   ]
  },
  {
   "cell_type": "markdown",
   "id": "fafbbe4b-60ea-4e07-9294-3594422e73df",
   "metadata": {},
   "source": [
    "## Use Beautiful Soup to parse and extract information\n",
    "\n",
    "- Parse and explore the structure of downloaded web pages using Beautiful soup.\r",
    "- \n",
    "Use the right properties and methods to extract the required information\n",
    "- \r\n",
    "Create functions to extract from the page into lists and dictionari.\n",
    "- .\r\n",
    "(Optional) Use a REST API to acquire additional information if required.\n",
    "\r\n"
   ]
  },
  {
   "cell_type": "code",
   "execution_count": 11,
   "id": "1ad13403-f5f8-4fa1-8fd9-7d346318e66c",
   "metadata": {},
   "outputs": [
    {
     "name": "stderr",
     "output_type": "stream",
     "text": [
      "\n",
      "[notice] A new release of pip is available: 23.2.1 -> 24.0\n",
      "[notice] To update, run: python.exe -m pip install --upgrade pip\n"
     ]
    }
   ],
   "source": [
    "!pip install beautifulsoup4 --upgrade --quiet"
   ]
  },
  {
   "cell_type": "code",
   "execution_count": 12,
   "id": "bac37cf1-1960-456d-9fcf-049d8b5635b2",
   "metadata": {},
   "outputs": [],
   "source": [
    "from bs4 import BeautifulSoup"
   ]
  },
  {
   "cell_type": "code",
   "execution_count": 13,
   "id": "2d170be7-b5e5-40e8-9c05-e46279dfb5dd",
   "metadata": {},
   "outputs": [],
   "source": [
    "doc = BeautifulSoup(page_content, 'html.parser')"
   ]
  },
  {
   "cell_type": "code",
   "execution_count": 14,
   "id": "54fed7a1-ff3f-4bb0-a91b-291f9de4681b",
   "metadata": {},
   "outputs": [],
   "source": [
    "topic_title_class = 'f3 lh-condensed mb-0 mt-1 Link--primary'\n",
    "topic_title_tags = doc.find_all('p', {'class': topic_title_class})\n"
   ]
  },
  {
   "cell_type": "code",
   "execution_count": 15,
   "id": "7b6d28b6-6759-4d0c-8b9a-7592a53175b9",
   "metadata": {},
   "outputs": [],
   "source": [
    "topic_description_class = 'f5 color-fg-muted mb-0 mt-1'\n",
    "topic_description_tags = doc.find_all('p', {'class': topic_description_class} )"
   ]
  },
  {
   "cell_type": "code",
   "execution_count": 16,
   "id": "b79a5377-b225-4a69-8f5c-f04515d32d00",
   "metadata": {},
   "outputs": [
    {
     "data": {
      "text/plain": [
       "'/topics/3d'"
      ]
     },
     "execution_count": 16,
     "metadata": {},
     "output_type": "execute_result"
    }
   ],
   "source": [
    "topic_link_class = 'no-underline flex-1 d-flex flex-column'\n",
    "topic_link_tags = doc.find_all('a', {'class': topic_link_class })\n",
    "topic_link_tags[0]['href']"
   ]
  },
  {
   "cell_type": "code",
   "execution_count": 17,
   "id": "6b2161a0-d7a9-4f8d-827c-47eddc6352ba",
   "metadata": {},
   "outputs": [
    {
     "name": "stdout",
     "output_type": "stream",
     "text": [
      "https://github.com/topics/3d\n"
     ]
    }
   ],
   "source": [
    "topic0_url = \"https://github.com\" + topic_link_tags[0]['href']\n",
    "print(topic0_url)"
   ]
  },
  {
   "cell_type": "code",
   "execution_count": 18,
   "id": "d3e15024-8727-4813-bfe2-88e0c92695c0",
   "metadata": {},
   "outputs": [
    {
     "data": {
      "text/plain": [
       "['3D', 'Ajax', 'Algorithm', 'Amp', 'Android']"
      ]
     },
     "execution_count": 18,
     "metadata": {},
     "output_type": "execute_result"
    }
   ],
   "source": [
    "topic_titles = []\n",
    "\n",
    "for tag in topic_title_tags:\n",
    "    topic_titles.append(tag.text)\n",
    "\n",
    "topic_titles[:5]"
   ]
  },
  {
   "cell_type": "code",
   "execution_count": 19,
   "id": "4f193144-5bf1-454e-bb6a-269d6d0d3d7d",
   "metadata": {},
   "outputs": [
    {
     "data": {
      "text/plain": [
       "['3D refers to the use of three-dimensional graphics, modeling, and animation in various industries.',\n",
       " 'Ajax is a technique for creating interactive web applications.',\n",
       " 'Algorithms are self-contained sequences that carry out a variety of tasks.',\n",
       " 'Amp is a non-blocking concurrency library for PHP.',\n",
       " 'Android is an operating system built by Google designed for mobile devices.']"
      ]
     },
     "execution_count": 19,
     "metadata": {},
     "output_type": "execute_result"
    }
   ],
   "source": [
    "topic_descriptions = []\n",
    "\n",
    "for tag in topic_description_tags:\n",
    "    topic_descriptions.append(tag.text.strip())\n",
    "\n",
    "topic_descriptions[:5]"
   ]
  },
  {
   "cell_type": "code",
   "execution_count": 20,
   "id": "b397b1f5-7694-46df-9489-d9747d3c8053",
   "metadata": {},
   "outputs": [
    {
     "data": {
      "text/plain": [
       "['https://github.com/topics/3d',\n",
       " 'https://github.com/topics/ajax',\n",
       " 'https://github.com/topics/algorithm',\n",
       " 'https://github.com/topics/amphp',\n",
       " 'https://github.com/topics/android']"
      ]
     },
     "execution_count": 20,
     "metadata": {},
     "output_type": "execute_result"
    }
   ],
   "source": [
    "topic_urls = []\n",
    "base_url = 'https://github.com'\n",
    "\n",
    "for tag in topic_link_tags:\n",
    "    topic_urls.append(base_url + tag['href'])\n",
    "\n",
    "topic_urls[:5]"
   ]
  },
  {
   "cell_type": "code",
   "execution_count": 21,
   "id": "65601801-b787-4dc3-a859-3a3f5911e930",
   "metadata": {},
   "outputs": [
    {
     "name": "stderr",
     "output_type": "stream",
     "text": [
      "\n",
      "[notice] A new release of pip is available: 23.2.1 -> 24.0\n",
      "[notice] To update, run: python.exe -m pip install --upgrade pip\n"
     ]
    }
   ],
   "source": [
    "!pip install pandas --upgrade --quiet"
   ]
  },
  {
   "cell_type": "code",
   "execution_count": 22,
   "id": "d499b6e3-4f92-4dfd-9c95-02f595caacd8",
   "metadata": {},
   "outputs": [
    {
     "name": "stderr",
     "output_type": "stream",
     "text": [
      "C:\\Users\\jayra\\AppData\\Local\\Temp\\ipykernel_16660\\4080736814.py:1: DeprecationWarning: \n",
      "Pyarrow will become a required dependency of pandas in the next major release of pandas (pandas 3.0),\n",
      "(to allow more performant data types, such as the Arrow string type, and better interoperability with other libraries)\n",
      "but was not found to be installed on your system.\n",
      "If this would cause problems for you,\n",
      "please provide us feedback at https://github.com/pandas-dev/pandas/issues/54466\n",
      "        \n",
      "  import pandas as pd\n"
     ]
    }
   ],
   "source": [
    "import pandas as pd"
   ]
  },
  {
   "cell_type": "code",
   "execution_count": 23,
   "id": "dacb17d8-e4ef-4845-8c56-74f6ae022f46",
   "metadata": {},
   "outputs": [],
   "source": [
    "topic_dict = {\n",
    "    'Title': topic_titles,\n",
    "    'Description': topic_descriptions,\n",
    "    'URL': topic_urls\n",
    "}"
   ]
  },
  {
   "cell_type": "code",
   "execution_count": 24,
   "id": "8f90aadd-35ab-4d44-9c81-52631a463ec6",
   "metadata": {},
   "outputs": [],
   "source": [
    "topic_df = pd.DataFrame(topic_dict)"
   ]
  },
  {
   "cell_type": "code",
   "execution_count": 25,
   "id": "06139ddf-6f5b-4c47-a40e-3cecc7129fe7",
   "metadata": {},
   "outputs": [
    {
     "data": {
      "text/html": [
       "<div>\n",
       "<style scoped>\n",
       "    .dataframe tbody tr th:only-of-type {\n",
       "        vertical-align: middle;\n",
       "    }\n",
       "\n",
       "    .dataframe tbody tr th {\n",
       "        vertical-align: top;\n",
       "    }\n",
       "\n",
       "    .dataframe thead th {\n",
       "        text-align: right;\n",
       "    }\n",
       "</style>\n",
       "<table border=\"1\" class=\"dataframe\">\n",
       "  <thead>\n",
       "    <tr style=\"text-align: right;\">\n",
       "      <th></th>\n",
       "      <th>Title</th>\n",
       "      <th>Description</th>\n",
       "      <th>URL</th>\n",
       "    </tr>\n",
       "  </thead>\n",
       "  <tbody>\n",
       "    <tr>\n",
       "      <th>0</th>\n",
       "      <td>3D</td>\n",
       "      <td>3D refers to the use of three-dimensional grap...</td>\n",
       "      <td>https://github.com/topics/3d</td>\n",
       "    </tr>\n",
       "    <tr>\n",
       "      <th>1</th>\n",
       "      <td>Ajax</td>\n",
       "      <td>Ajax is a technique for creating interactive w...</td>\n",
       "      <td>https://github.com/topics/ajax</td>\n",
       "    </tr>\n",
       "    <tr>\n",
       "      <th>2</th>\n",
       "      <td>Algorithm</td>\n",
       "      <td>Algorithms are self-contained sequences that c...</td>\n",
       "      <td>https://github.com/topics/algorithm</td>\n",
       "    </tr>\n",
       "    <tr>\n",
       "      <th>3</th>\n",
       "      <td>Amp</td>\n",
       "      <td>Amp is a non-blocking concurrency library for ...</td>\n",
       "      <td>https://github.com/topics/amphp</td>\n",
       "    </tr>\n",
       "    <tr>\n",
       "      <th>4</th>\n",
       "      <td>Android</td>\n",
       "      <td>Android is an operating system built by Google...</td>\n",
       "      <td>https://github.com/topics/android</td>\n",
       "    </tr>\n",
       "    <tr>\n",
       "      <th>5</th>\n",
       "      <td>Angular</td>\n",
       "      <td>Angular is an open source web application plat...</td>\n",
       "      <td>https://github.com/topics/angular</td>\n",
       "    </tr>\n",
       "    <tr>\n",
       "      <th>6</th>\n",
       "      <td>Ansible</td>\n",
       "      <td>Ansible is a simple and powerful automation en...</td>\n",
       "      <td>https://github.com/topics/ansible</td>\n",
       "    </tr>\n",
       "    <tr>\n",
       "      <th>7</th>\n",
       "      <td>API</td>\n",
       "      <td>An API (Application Programming Interface) is ...</td>\n",
       "      <td>https://github.com/topics/api</td>\n",
       "    </tr>\n",
       "    <tr>\n",
       "      <th>8</th>\n",
       "      <td>Arduino</td>\n",
       "      <td>Arduino is an open source platform for buildin...</td>\n",
       "      <td>https://github.com/topics/arduino</td>\n",
       "    </tr>\n",
       "    <tr>\n",
       "      <th>9</th>\n",
       "      <td>ASP.NET</td>\n",
       "      <td>ASP.NET is a web framework for building modern...</td>\n",
       "      <td>https://github.com/topics/aspnet</td>\n",
       "    </tr>\n",
       "    <tr>\n",
       "      <th>10</th>\n",
       "      <td>Atom</td>\n",
       "      <td>Atom is a open source text editor built with w...</td>\n",
       "      <td>https://github.com/topics/atom</td>\n",
       "    </tr>\n",
       "    <tr>\n",
       "      <th>11</th>\n",
       "      <td>Awesome Lists</td>\n",
       "      <td>An awesome list is a list of awesome things cu...</td>\n",
       "      <td>https://github.com/topics/awesome</td>\n",
       "    </tr>\n",
       "    <tr>\n",
       "      <th>12</th>\n",
       "      <td>Amazon Web Services</td>\n",
       "      <td>Amazon Web Services provides on-demand cloud c...</td>\n",
       "      <td>https://github.com/topics/aws</td>\n",
       "    </tr>\n",
       "    <tr>\n",
       "      <th>13</th>\n",
       "      <td>Azure</td>\n",
       "      <td>Azure is a cloud computing service created by ...</td>\n",
       "      <td>https://github.com/topics/azure</td>\n",
       "    </tr>\n",
       "    <tr>\n",
       "      <th>14</th>\n",
       "      <td>Babel</td>\n",
       "      <td>Babel is a compiler for writing next generatio...</td>\n",
       "      <td>https://github.com/topics/babel</td>\n",
       "    </tr>\n",
       "    <tr>\n",
       "      <th>15</th>\n",
       "      <td>Bash</td>\n",
       "      <td>Bash is a shell and command language interpret...</td>\n",
       "      <td>https://github.com/topics/bash</td>\n",
       "    </tr>\n",
       "    <tr>\n",
       "      <th>16</th>\n",
       "      <td>Bitcoin</td>\n",
       "      <td>Bitcoin is a cryptocurrency developed by Satos...</td>\n",
       "      <td>https://github.com/topics/bitcoin</td>\n",
       "    </tr>\n",
       "    <tr>\n",
       "      <th>17</th>\n",
       "      <td>Bootstrap</td>\n",
       "      <td>Bootstrap is an HTML, CSS, and JavaScript fram...</td>\n",
       "      <td>https://github.com/topics/bootstrap</td>\n",
       "    </tr>\n",
       "    <tr>\n",
       "      <th>18</th>\n",
       "      <td>Bot</td>\n",
       "      <td>A bot is an application that runs automated ta...</td>\n",
       "      <td>https://github.com/topics/bot</td>\n",
       "    </tr>\n",
       "    <tr>\n",
       "      <th>19</th>\n",
       "      <td>C</td>\n",
       "      <td>C is a general purpose programming language th...</td>\n",
       "      <td>https://github.com/topics/c</td>\n",
       "    </tr>\n",
       "    <tr>\n",
       "      <th>20</th>\n",
       "      <td>Chrome</td>\n",
       "      <td>Chrome is a web browser from the tech company ...</td>\n",
       "      <td>https://github.com/topics/chrome</td>\n",
       "    </tr>\n",
       "    <tr>\n",
       "      <th>21</th>\n",
       "      <td>Chrome extension</td>\n",
       "      <td>Chrome extensions enable users to customize th...</td>\n",
       "      <td>https://github.com/topics/chrome-extension</td>\n",
       "    </tr>\n",
       "    <tr>\n",
       "      <th>22</th>\n",
       "      <td>Command line interface</td>\n",
       "      <td>A CLI, or command-line interface, is a console...</td>\n",
       "      <td>https://github.com/topics/cli</td>\n",
       "    </tr>\n",
       "    <tr>\n",
       "      <th>23</th>\n",
       "      <td>Clojure</td>\n",
       "      <td>Clojure is a dynamic, general-purpose programm...</td>\n",
       "      <td>https://github.com/topics/clojure</td>\n",
       "    </tr>\n",
       "    <tr>\n",
       "      <th>24</th>\n",
       "      <td>Code quality</td>\n",
       "      <td>Automate your code review with style, quality,...</td>\n",
       "      <td>https://github.com/topics/code-quality</td>\n",
       "    </tr>\n",
       "    <tr>\n",
       "      <th>25</th>\n",
       "      <td>Code review</td>\n",
       "      <td>Ensure your code meets quality standards and s...</td>\n",
       "      <td>https://github.com/topics/code-review</td>\n",
       "    </tr>\n",
       "    <tr>\n",
       "      <th>26</th>\n",
       "      <td>Compiler</td>\n",
       "      <td>Compilers are software that translate higher-l...</td>\n",
       "      <td>https://github.com/topics/compiler</td>\n",
       "    </tr>\n",
       "    <tr>\n",
       "      <th>27</th>\n",
       "      <td>Continuous integration</td>\n",
       "      <td>Automatically build and test your code as you ...</td>\n",
       "      <td>https://github.com/topics/continuous-integration</td>\n",
       "    </tr>\n",
       "    <tr>\n",
       "      <th>28</th>\n",
       "      <td>COVID-19</td>\n",
       "      <td>The coronavirus disease 2019 (COVID-19) is an ...</td>\n",
       "      <td>https://github.com/topics/covid-19</td>\n",
       "    </tr>\n",
       "    <tr>\n",
       "      <th>29</th>\n",
       "      <td>C++</td>\n",
       "      <td>C++ is a general purpose and object-oriented p...</td>\n",
       "      <td>https://github.com/topics/cpp</td>\n",
       "    </tr>\n",
       "  </tbody>\n",
       "</table>\n",
       "</div>"
      ],
      "text/plain": [
       "                     Title                                        Description  \\\n",
       "0                       3D  3D refers to the use of three-dimensional grap...   \n",
       "1                     Ajax  Ajax is a technique for creating interactive w...   \n",
       "2                Algorithm  Algorithms are self-contained sequences that c...   \n",
       "3                      Amp  Amp is a non-blocking concurrency library for ...   \n",
       "4                  Android  Android is an operating system built by Google...   \n",
       "5                  Angular  Angular is an open source web application plat...   \n",
       "6                  Ansible  Ansible is a simple and powerful automation en...   \n",
       "7                      API  An API (Application Programming Interface) is ...   \n",
       "8                  Arduino  Arduino is an open source platform for buildin...   \n",
       "9                  ASP.NET  ASP.NET is a web framework for building modern...   \n",
       "10                    Atom  Atom is a open source text editor built with w...   \n",
       "11           Awesome Lists  An awesome list is a list of awesome things cu...   \n",
       "12     Amazon Web Services  Amazon Web Services provides on-demand cloud c...   \n",
       "13                   Azure  Azure is a cloud computing service created by ...   \n",
       "14                   Babel  Babel is a compiler for writing next generatio...   \n",
       "15                    Bash  Bash is a shell and command language interpret...   \n",
       "16                 Bitcoin  Bitcoin is a cryptocurrency developed by Satos...   \n",
       "17               Bootstrap  Bootstrap is an HTML, CSS, and JavaScript fram...   \n",
       "18                     Bot  A bot is an application that runs automated ta...   \n",
       "19                       C  C is a general purpose programming language th...   \n",
       "20                  Chrome  Chrome is a web browser from the tech company ...   \n",
       "21        Chrome extension  Chrome extensions enable users to customize th...   \n",
       "22  Command line interface  A CLI, or command-line interface, is a console...   \n",
       "23                 Clojure  Clojure is a dynamic, general-purpose programm...   \n",
       "24            Code quality  Automate your code review with style, quality,...   \n",
       "25             Code review  Ensure your code meets quality standards and s...   \n",
       "26                Compiler  Compilers are software that translate higher-l...   \n",
       "27  Continuous integration  Automatically build and test your code as you ...   \n",
       "28                COVID-19  The coronavirus disease 2019 (COVID-19) is an ...   \n",
       "29                     C++  C++ is a general purpose and object-oriented p...   \n",
       "\n",
       "                                                 URL  \n",
       "0                       https://github.com/topics/3d  \n",
       "1                     https://github.com/topics/ajax  \n",
       "2                https://github.com/topics/algorithm  \n",
       "3                    https://github.com/topics/amphp  \n",
       "4                  https://github.com/topics/android  \n",
       "5                  https://github.com/topics/angular  \n",
       "6                  https://github.com/topics/ansible  \n",
       "7                      https://github.com/topics/api  \n",
       "8                  https://github.com/topics/arduino  \n",
       "9                   https://github.com/topics/aspnet  \n",
       "10                    https://github.com/topics/atom  \n",
       "11                 https://github.com/topics/awesome  \n",
       "12                     https://github.com/topics/aws  \n",
       "13                   https://github.com/topics/azure  \n",
       "14                   https://github.com/topics/babel  \n",
       "15                    https://github.com/topics/bash  \n",
       "16                 https://github.com/topics/bitcoin  \n",
       "17               https://github.com/topics/bootstrap  \n",
       "18                     https://github.com/topics/bot  \n",
       "19                       https://github.com/topics/c  \n",
       "20                  https://github.com/topics/chrome  \n",
       "21        https://github.com/topics/chrome-extension  \n",
       "22                     https://github.com/topics/cli  \n",
       "23                 https://github.com/topics/clojure  \n",
       "24            https://github.com/topics/code-quality  \n",
       "25             https://github.com/topics/code-review  \n",
       "26                https://github.com/topics/compiler  \n",
       "27  https://github.com/topics/continuous-integration  \n",
       "28                https://github.com/topics/covid-19  \n",
       "29                     https://github.com/topics/cpp  "
      ]
     },
     "execution_count": 25,
     "metadata": {},
     "output_type": "execute_result"
    }
   ],
   "source": [
    "topic_df"
   ]
  },
  {
   "cell_type": "markdown",
   "id": "d1ca9ce2-ddb5-4eb5-ba3c-dbe24888ea51",
   "metadata": {},
   "source": [
    "## Getting Information out of a Topic Page"
   ]
  },
  {
   "cell_type": "code",
   "execution_count": 26,
   "id": "3e916113-20cc-41f5-80d5-541f20d6b115",
   "metadata": {},
   "outputs": [],
   "source": [
    "topic_page_url = topic_urls[0]\n",
    "response = requests.get(topic_page_url)"
   ]
  },
  {
   "cell_type": "code",
   "execution_count": 27,
   "id": "c3c926bb-2cd5-4b31-b7ed-d87b5a74aca1",
   "metadata": {},
   "outputs": [],
   "source": [
    "topic_doc = BeautifulSoup(response.text, 'html.parser')"
   ]
  },
  {
   "cell_type": "code",
   "execution_count": 28,
   "id": "984aa889-f008-4923-a3d3-5203d9ab1634",
   "metadata": {},
   "outputs": [],
   "source": [
    "h3_selection_class = 'f3 color-fg-muted text-normal lh-condensed'\n",
    "repo_tags = topic_doc.find_all('h3', {'class': h3_selection_class})"
   ]
  },
  {
   "cell_type": "code",
   "execution_count": 29,
   "id": "836135af-19ce-415b-8061-11fe815a7511",
   "metadata": {},
   "outputs": [
    {
     "data": {
      "text/plain": [
       "<h3 class=\"f3 color-fg-muted text-normal lh-condensed\">\n",
       "<a class=\"Link\" data-hydro-click='{\"event_type\":\"explore.click\",\"payload\":{\"click_context\":\"REPOSITORY_CARD\",\"click_target\":\"OWNER\",\"click_visual_representation\":\"REPOSITORY_OWNER_HEADING\",\"actor_id\":null,\"record_id\":97088,\"originating_url\":\"https://github.com/topics/3d\",\"user_id\":null}}' data-hydro-click-hmac=\"c72fbd5c69a8ee7c9c53a4e65de2b93c8fc7552dd793945819639bc165c0f0ba\" data-turbo=\"false\" data-view-component=\"true\" href=\"/mrdoob\">\n",
       "            mrdoob\n",
       "</a>          /\n",
       "          <a class=\"Link text-bold wb-break-word\" data-hydro-click='{\"event_type\":\"explore.click\",\"payload\":{\"click_context\":\"REPOSITORY_CARD\",\"click_target\":\"REPOSITORY\",\"click_visual_representation\":\"REPOSITORY_NAME_HEADING\",\"actor_id\":null,\"record_id\":576201,\"originating_url\":\"https://github.com/topics/3d\",\"user_id\":null}}' data-hydro-click-hmac=\"4a2667db3d63a1739c412e059e5da95afe419df83f70949b5d59dc3478f5c79a\" data-turbo=\"false\" data-view-component=\"true\" href=\"/mrdoob/three.js\">\n",
       "            three.js\n",
       "</a> </h3>"
      ]
     },
     "execution_count": 29,
     "metadata": {},
     "output_type": "execute_result"
    }
   ],
   "source": [
    "repo_tags[0]"
   ]
  },
  {
   "cell_type": "code",
   "execution_count": 30,
   "id": "a3291116-af32-4a24-9130-8dee4d83eeb2",
   "metadata": {},
   "outputs": [],
   "source": [
    "a_tags = repo_tags[0].find_all('a')"
   ]
  },
  {
   "cell_type": "code",
   "execution_count": 31,
   "id": "2c8001f9-4062-42e3-89a2-87b8238f8b9e",
   "metadata": {},
   "outputs": [
    {
     "data": {
      "text/plain": [
       "[<a class=\"Link\" data-hydro-click='{\"event_type\":\"explore.click\",\"payload\":{\"click_context\":\"REPOSITORY_CARD\",\"click_target\":\"OWNER\",\"click_visual_representation\":\"REPOSITORY_OWNER_HEADING\",\"actor_id\":null,\"record_id\":97088,\"originating_url\":\"https://github.com/topics/3d\",\"user_id\":null}}' data-hydro-click-hmac=\"c72fbd5c69a8ee7c9c53a4e65de2b93c8fc7552dd793945819639bc165c0f0ba\" data-turbo=\"false\" data-view-component=\"true\" href=\"/mrdoob\">\n",
       "             mrdoob\n",
       " </a>,\n",
       " <a class=\"Link text-bold wb-break-word\" data-hydro-click='{\"event_type\":\"explore.click\",\"payload\":{\"click_context\":\"REPOSITORY_CARD\",\"click_target\":\"REPOSITORY\",\"click_visual_representation\":\"REPOSITORY_NAME_HEADING\",\"actor_id\":null,\"record_id\":576201,\"originating_url\":\"https://github.com/topics/3d\",\"user_id\":null}}' data-hydro-click-hmac=\"4a2667db3d63a1739c412e059e5da95afe419df83f70949b5d59dc3478f5c79a\" data-turbo=\"false\" data-view-component=\"true\" href=\"/mrdoob/three.js\">\n",
       "             three.js\n",
       " </a>]"
      ]
     },
     "execution_count": 31,
     "metadata": {},
     "output_type": "execute_result"
    }
   ],
   "source": [
    "a_tags"
   ]
  },
  {
   "cell_type": "code",
   "execution_count": 32,
   "id": "17e93392-b924-4316-8ad6-269deb0a6325",
   "metadata": {},
   "outputs": [
    {
     "data": {
      "text/plain": [
       "'mrdoob'"
      ]
     },
     "execution_count": 32,
     "metadata": {},
     "output_type": "execute_result"
    }
   ],
   "source": [
    "a_tags[0].text.strip()"
   ]
  },
  {
   "cell_type": "code",
   "execution_count": 33,
   "id": "cae160d9-d1a7-4e1d-afab-12648f1ed0fb",
   "metadata": {},
   "outputs": [
    {
     "data": {
      "text/plain": [
       "'three.js'"
      ]
     },
     "execution_count": 33,
     "metadata": {},
     "output_type": "execute_result"
    }
   ],
   "source": [
    "a_tags[1].text.strip()"
   ]
  },
  {
   "cell_type": "code",
   "execution_count": 34,
   "id": "5f7c799d-c1b9-439c-896e-587928633fa3",
   "metadata": {},
   "outputs": [
    {
     "data": {
      "text/plain": [
       "'/mrdoob/three.js'"
      ]
     },
     "execution_count": 34,
     "metadata": {},
     "output_type": "execute_result"
    }
   ],
   "source": [
    "a_tags[1]['href']"
   ]
  },
  {
   "cell_type": "code",
   "execution_count": 35,
   "id": "28480b4f-2f5c-4b0b-a5d7-2f5de640575e",
   "metadata": {},
   "outputs": [
    {
     "data": {
      "text/plain": [
       "'https://github.com/mrdoob/three.js'"
      ]
     },
     "execution_count": 35,
     "metadata": {},
     "output_type": "execute_result"
    }
   ],
   "source": [
    "repo_url = base_url + a_tags[1]['href']\n",
    "repo_url"
   ]
  },
  {
   "cell_type": "code",
   "execution_count": 36,
   "id": "c799e071-9956-4282-8056-406549957de4",
   "metadata": {},
   "outputs": [
    {
     "data": {
      "text/plain": [
       "'97.5k'"
      ]
     },
     "execution_count": 36,
     "metadata": {},
     "output_type": "execute_result"
    }
   ],
   "source": [
    "star_class = 'Counter js-social-count'\n",
    "star_tags = topic_doc.find_all('span', {'class': 'Counter js-social-count'})\n",
    "star_tags[0].text"
   ]
  },
  {
   "cell_type": "code",
   "execution_count": 37,
   "id": "8d79f79f-d89f-4ab5-bb06-47c78bc4c4df",
   "metadata": {},
   "outputs": [],
   "source": [
    "def get_repo_info(h3_tag, star_tag):\n",
    "    #returns all the required information about the repository\n",
    "    a_tags = h3_tag.find_all('a')\n",
    "    username = a_tags[0].text.strip()\n",
    "    repository_name = a_tags[1].text.strip()\n",
    "    repository_url = base_url + a_tags[1]['href']\n",
    "    stars = star_tag.text.strip()\n",
    "    return username, repository_name, repository_url, stars\n",
    "    "
   ]
  },
  {
   "cell_type": "code",
   "execution_count": 38,
   "id": "8ecf9bfc-767c-4c6e-92eb-5954be660581",
   "metadata": {},
   "outputs": [
    {
     "data": {
      "text/plain": [
       "('mrdoob', 'three.js', 'https://github.com/mrdoob/three.js', '97.5k')"
      ]
     },
     "execution_count": 38,
     "metadata": {},
     "output_type": "execute_result"
    }
   ],
   "source": [
    "get_repo_info(repo_tags[0], star_tags[0])"
   ]
  },
  {
   "cell_type": "code",
   "execution_count": 39,
   "id": "6e614849-16fa-4082-94b2-f395e5ce0f42",
   "metadata": {},
   "outputs": [],
   "source": [
    "topic_repos_dict = {\n",
    "    'username':[],\n",
    "    'repo_name':[],\n",
    "    'repo_url':[],\n",
    "    'stars':[]\n",
    "}\n",
    "\n",
    "for i in range(len(repo_tags)):\n",
    "    repo_info = get_repo_info(repo_tags[i], star_tags[i])\n",
    "    topic_repos_dict['username'].append(repo_info[0])\n",
    "    topic_repos_dict['repo_name'].append(repo_info[1])\n",
    "    topic_repos_dict['repo_url'].append(repo_info[2])\n",
    "    topic_repos_dict['stars'].append(repo_info[3])"
   ]
  },
  {
   "cell_type": "code",
   "execution_count": 40,
   "id": "c124dc33-6b46-47d1-9b36-fc28109f4201",
   "metadata": {},
   "outputs": [],
   "source": [
    "topic_repo_df = pd.DataFrame(topic_repos_dict)"
   ]
  },
  {
   "cell_type": "code",
   "execution_count": 41,
   "id": "d6776d73-61a6-4e07-991b-6a265279dcd4",
   "metadata": {},
   "outputs": [
    {
     "data": {
      "text/html": [
       "<div>\n",
       "<style scoped>\n",
       "    .dataframe tbody tr th:only-of-type {\n",
       "        vertical-align: middle;\n",
       "    }\n",
       "\n",
       "    .dataframe tbody tr th {\n",
       "        vertical-align: top;\n",
       "    }\n",
       "\n",
       "    .dataframe thead th {\n",
       "        text-align: right;\n",
       "    }\n",
       "</style>\n",
       "<table border=\"1\" class=\"dataframe\">\n",
       "  <thead>\n",
       "    <tr style=\"text-align: right;\">\n",
       "      <th></th>\n",
       "      <th>username</th>\n",
       "      <th>repo_name</th>\n",
       "      <th>repo_url</th>\n",
       "      <th>stars</th>\n",
       "    </tr>\n",
       "  </thead>\n",
       "  <tbody>\n",
       "    <tr>\n",
       "      <th>0</th>\n",
       "      <td>mrdoob</td>\n",
       "      <td>three.js</td>\n",
       "      <td>https://github.com/mrdoob/three.js</td>\n",
       "      <td>97.5k</td>\n",
       "    </tr>\n",
       "    <tr>\n",
       "      <th>1</th>\n",
       "      <td>pmndrs</td>\n",
       "      <td>react-three-fiber</td>\n",
       "      <td>https://github.com/pmndrs/react-three-fiber</td>\n",
       "      <td>25.3k</td>\n",
       "    </tr>\n",
       "    <tr>\n",
       "      <th>2</th>\n",
       "      <td>libgdx</td>\n",
       "      <td>libgdx</td>\n",
       "      <td>https://github.com/libgdx/libgdx</td>\n",
       "      <td>22.5k</td>\n",
       "    </tr>\n",
       "    <tr>\n",
       "      <th>3</th>\n",
       "      <td>BabylonJS</td>\n",
       "      <td>Babylon.js</td>\n",
       "      <td>https://github.com/BabylonJS/Babylon.js</td>\n",
       "      <td>22.1k</td>\n",
       "    </tr>\n",
       "    <tr>\n",
       "      <th>4</th>\n",
       "      <td>ssloy</td>\n",
       "      <td>tinyrenderer</td>\n",
       "      <td>https://github.com/ssloy/tinyrenderer</td>\n",
       "      <td>18.9k</td>\n",
       "    </tr>\n",
       "    <tr>\n",
       "      <th>5</th>\n",
       "      <td>FreeCAD</td>\n",
       "      <td>FreeCAD</td>\n",
       "      <td>https://github.com/FreeCAD/FreeCAD</td>\n",
       "      <td>16.8k</td>\n",
       "    </tr>\n",
       "    <tr>\n",
       "      <th>6</th>\n",
       "      <td>lettier</td>\n",
       "      <td>3d-game-shaders-for-beginners</td>\n",
       "      <td>https://github.com/lettier/3d-game-shaders-for...</td>\n",
       "      <td>16.7k</td>\n",
       "    </tr>\n",
       "    <tr>\n",
       "      <th>7</th>\n",
       "      <td>aframevr</td>\n",
       "      <td>aframe</td>\n",
       "      <td>https://github.com/aframevr/aframe</td>\n",
       "      <td>16k</td>\n",
       "    </tr>\n",
       "    <tr>\n",
       "      <th>8</th>\n",
       "      <td>CesiumGS</td>\n",
       "      <td>cesium</td>\n",
       "      <td>https://github.com/CesiumGS/cesium</td>\n",
       "      <td>11.6k</td>\n",
       "    </tr>\n",
       "    <tr>\n",
       "      <th>9</th>\n",
       "      <td>blender</td>\n",
       "      <td>blender</td>\n",
       "      <td>https://github.com/blender/blender</td>\n",
       "      <td>10.9k</td>\n",
       "    </tr>\n",
       "    <tr>\n",
       "      <th>10</th>\n",
       "      <td>MonoGame</td>\n",
       "      <td>MonoGame</td>\n",
       "      <td>https://github.com/MonoGame/MonoGame</td>\n",
       "      <td>10.6k</td>\n",
       "    </tr>\n",
       "    <tr>\n",
       "      <th>11</th>\n",
       "      <td>metafizzy</td>\n",
       "      <td>zdog</td>\n",
       "      <td>https://github.com/metafizzy/zdog</td>\n",
       "      <td>10.2k</td>\n",
       "    </tr>\n",
       "    <tr>\n",
       "      <th>12</th>\n",
       "      <td>isl-org</td>\n",
       "      <td>Open3D</td>\n",
       "      <td>https://github.com/isl-org/Open3D</td>\n",
       "      <td>10.2k</td>\n",
       "    </tr>\n",
       "    <tr>\n",
       "      <th>13</th>\n",
       "      <td>timzhang642</td>\n",
       "      <td>3D-Machine-Learning</td>\n",
       "      <td>https://github.com/timzhang642/3D-Machine-Lear...</td>\n",
       "      <td>9.4k</td>\n",
       "    </tr>\n",
       "    <tr>\n",
       "      <th>14</th>\n",
       "      <td>nerfstudio-project</td>\n",
       "      <td>nerfstudio</td>\n",
       "      <td>https://github.com/nerfstudio-project/nerfstudio</td>\n",
       "      <td>8k</td>\n",
       "    </tr>\n",
       "    <tr>\n",
       "      <th>15</th>\n",
       "      <td>a1studmuffin</td>\n",
       "      <td>SpaceshipGenerator</td>\n",
       "      <td>https://github.com/a1studmuffin/SpaceshipGener...</td>\n",
       "      <td>7.5k</td>\n",
       "    </tr>\n",
       "    <tr>\n",
       "      <th>16</th>\n",
       "      <td>domlysz</td>\n",
       "      <td>BlenderGIS</td>\n",
       "      <td>https://github.com/domlysz/BlenderGIS</td>\n",
       "      <td>7.1k</td>\n",
       "    </tr>\n",
       "    <tr>\n",
       "      <th>17</th>\n",
       "      <td>FyroxEngine</td>\n",
       "      <td>Fyrox</td>\n",
       "      <td>https://github.com/FyroxEngine/Fyrox</td>\n",
       "      <td>7k</td>\n",
       "    </tr>\n",
       "    <tr>\n",
       "      <th>18</th>\n",
       "      <td>google</td>\n",
       "      <td>model-viewer</td>\n",
       "      <td>https://github.com/google/model-viewer</td>\n",
       "      <td>6.4k</td>\n",
       "    </tr>\n",
       "    <tr>\n",
       "      <th>19</th>\n",
       "      <td>openscad</td>\n",
       "      <td>openscad</td>\n",
       "      <td>https://github.com/openscad/openscad</td>\n",
       "      <td>6.3k</td>\n",
       "    </tr>\n",
       "  </tbody>\n",
       "</table>\n",
       "</div>"
      ],
      "text/plain": [
       "              username                      repo_name  \\\n",
       "0               mrdoob                       three.js   \n",
       "1               pmndrs              react-three-fiber   \n",
       "2               libgdx                         libgdx   \n",
       "3            BabylonJS                     Babylon.js   \n",
       "4                ssloy                   tinyrenderer   \n",
       "5              FreeCAD                        FreeCAD   \n",
       "6              lettier  3d-game-shaders-for-beginners   \n",
       "7             aframevr                         aframe   \n",
       "8             CesiumGS                         cesium   \n",
       "9              blender                        blender   \n",
       "10            MonoGame                       MonoGame   \n",
       "11           metafizzy                           zdog   \n",
       "12             isl-org                         Open3D   \n",
       "13         timzhang642            3D-Machine-Learning   \n",
       "14  nerfstudio-project                     nerfstudio   \n",
       "15        a1studmuffin             SpaceshipGenerator   \n",
       "16             domlysz                     BlenderGIS   \n",
       "17         FyroxEngine                          Fyrox   \n",
       "18              google                   model-viewer   \n",
       "19            openscad                       openscad   \n",
       "\n",
       "                                             repo_url  stars  \n",
       "0                  https://github.com/mrdoob/three.js  97.5k  \n",
       "1         https://github.com/pmndrs/react-three-fiber  25.3k  \n",
       "2                    https://github.com/libgdx/libgdx  22.5k  \n",
       "3             https://github.com/BabylonJS/Babylon.js  22.1k  \n",
       "4               https://github.com/ssloy/tinyrenderer  18.9k  \n",
       "5                  https://github.com/FreeCAD/FreeCAD  16.8k  \n",
       "6   https://github.com/lettier/3d-game-shaders-for...  16.7k  \n",
       "7                  https://github.com/aframevr/aframe    16k  \n",
       "8                  https://github.com/CesiumGS/cesium  11.6k  \n",
       "9                  https://github.com/blender/blender  10.9k  \n",
       "10               https://github.com/MonoGame/MonoGame  10.6k  \n",
       "11                  https://github.com/metafizzy/zdog  10.2k  \n",
       "12                  https://github.com/isl-org/Open3D  10.2k  \n",
       "13  https://github.com/timzhang642/3D-Machine-Lear...   9.4k  \n",
       "14   https://github.com/nerfstudio-project/nerfstudio     8k  \n",
       "15  https://github.com/a1studmuffin/SpaceshipGener...   7.5k  \n",
       "16              https://github.com/domlysz/BlenderGIS   7.1k  \n",
       "17               https://github.com/FyroxEngine/Fyrox     7k  \n",
       "18             https://github.com/google/model-viewer   6.4k  \n",
       "19               https://github.com/openscad/openscad   6.3k  "
      ]
     },
     "execution_count": 41,
     "metadata": {},
     "output_type": "execute_result"
    }
   ],
   "source": [
    "topic_repo_df"
   ]
  },
  {
   "cell_type": "code",
   "execution_count": 69,
   "id": "9f4dd236-2126-4753-aed6-18ab1bc9e544",
   "metadata": {},
   "outputs": [],
   "source": [
    "import os\n",
    "\n",
    "def get_topic_page(topic_url):\n",
    "    # download the page\n",
    "    response = requests.get(topic_url)\n",
    "    # check response code\n",
    "    if response.status_code != 200:\n",
    "        raise Exception('Failed to load page {}'.format(topic_url))\n",
    "    #parse using beautiful soup\n",
    "    topic_doc = BeautifulSoup(response.text, 'html.parser')\n",
    "    return topic_doc\n",
    "\n",
    "def get_repo_info(h3_tag, star_tag):\n",
    "    #returns all the required information about the repository\n",
    "    a_tags = h3_tag.find_all('a')\n",
    "    username = a_tags[0].text.strip()\n",
    "    repository_name = a_tags[1].text.strip()\n",
    "    repository_url = base_url + a_tags[1]['href']\n",
    "    stars = star_tag.text.strip()\n",
    "    return username, repository_name, repository_url, stars\n",
    "\n",
    "def get_topic_repos(topic_doc):\n",
    "    #get the repository name tags\n",
    "    h3_selection_class = 'f3 color-fg-muted text-normal lh-condensed'\n",
    "    repo_tags = topic_doc.find_all('h3', {'class': h3_selection_class})\n",
    "    #get the star tags\n",
    "    star_class = 'Counter js-social-count'\n",
    "    star_tags = topic_doc.find_all('span', {'class': 'Counter js-social-count'})\n",
    "    # get the repository info\n",
    "\n",
    "    topic_repos_dict = {\n",
    "        'username':[],\n",
    "        'repo_name':[],\n",
    "        'repo_url':[],\n",
    "        'stars':[]\n",
    "    }\n",
    "    \n",
    "    for i in range(len(repo_tags)):\n",
    "        repo_info = get_repo_info(repo_tags[i], star_tags[i])\n",
    "        topic_repos_dict['username'].append(repo_info[0])\n",
    "        topic_repos_dict['repo_name'].append(repo_info[1])\n",
    "        topic_repos_dict['repo_url'].append(repo_info[2])\n",
    "        topic_repos_dict['stars'].append(repo_info[3])\n",
    "        \n",
    "    return pd.DataFrame(topic_repos_dict)\n",
    "\n",
    "def scrape_topic(topic_url, topic_name):\n",
    "    file_name = topic_name + '.csv'\n",
    "    if os.path.exists(file_name):\n",
    "        print('The file {} already exists. Skipping..'.format(file_name))\n",
    "        return\n",
    "    topic_df = get_topic_repos(get_topic_page(topic_url))\n",
    "    topic_df.to_csv(file_name, index = None)"
   ]
  },
  {
   "cell_type": "code",
   "execution_count": 44,
   "id": "cc561ed7-d7d1-4367-96ef-e75b5a524c7d",
   "metadata": {},
   "outputs": [
    {
     "data": {
      "text/plain": [
       "'https://github.com/topics/ajax'"
      ]
     },
     "execution_count": 44,
     "metadata": {},
     "output_type": "execute_result"
    }
   ],
   "source": [
    "topic_urls[1]"
   ]
  },
  {
   "cell_type": "code",
   "execution_count": 49,
   "id": "8d0525eb-1073-4f26-9ba1-2eb87ec10a89",
   "metadata": {},
   "outputs": [],
   "source": [
    "topic2_repos = get_topic_repos(get_topic_page(topic_urls[1]))"
   ]
  },
  {
   "cell_type": "code",
   "execution_count": 50,
   "id": "5358e152-c434-48a2-8019-5e4d88ccbaf6",
   "metadata": {},
   "outputs": [
    {
     "data": {
      "text/html": [
       "<div>\n",
       "<style scoped>\n",
       "    .dataframe tbody tr th:only-of-type {\n",
       "        vertical-align: middle;\n",
       "    }\n",
       "\n",
       "    .dataframe tbody tr th {\n",
       "        vertical-align: top;\n",
       "    }\n",
       "\n",
       "    .dataframe thead th {\n",
       "        text-align: right;\n",
       "    }\n",
       "</style>\n",
       "<table border=\"1\" class=\"dataframe\">\n",
       "  <thead>\n",
       "    <tr style=\"text-align: right;\">\n",
       "      <th></th>\n",
       "      <th>username</th>\n",
       "      <th>repo_name</th>\n",
       "      <th>repo_url</th>\n",
       "      <th>stars</th>\n",
       "    </tr>\n",
       "  </thead>\n",
       "  <tbody>\n",
       "    <tr>\n",
       "      <th>0</th>\n",
       "      <td>ljianshu</td>\n",
       "      <td>Blog</td>\n",
       "      <td>https://github.com/ljianshu/Blog</td>\n",
       "      <td>7.8k</td>\n",
       "    </tr>\n",
       "    <tr>\n",
       "      <th>1</th>\n",
       "      <td>metafizzy</td>\n",
       "      <td>infinite-scroll</td>\n",
       "      <td>https://github.com/metafizzy/infinite-scroll</td>\n",
       "      <td>7.4k</td>\n",
       "    </tr>\n",
       "    <tr>\n",
       "      <th>2</th>\n",
       "      <td>olifolkerd</td>\n",
       "      <td>tabulator</td>\n",
       "      <td>https://github.com/olifolkerd/tabulator</td>\n",
       "      <td>6.1k</td>\n",
       "    </tr>\n",
       "    <tr>\n",
       "      <th>3</th>\n",
       "      <td>developit</td>\n",
       "      <td>unfetch</td>\n",
       "      <td>https://github.com/developit/unfetch</td>\n",
       "      <td>5.7k</td>\n",
       "    </tr>\n",
       "    <tr>\n",
       "      <th>4</th>\n",
       "      <td>jquery-form</td>\n",
       "      <td>form</td>\n",
       "      <td>https://github.com/jquery-form/form</td>\n",
       "      <td>5.2k</td>\n",
       "    </tr>\n",
       "    <tr>\n",
       "      <th>5</th>\n",
       "      <td>Studio-42</td>\n",
       "      <td>elFinder</td>\n",
       "      <td>https://github.com/Studio-42/elFinder</td>\n",
       "      <td>4.5k</td>\n",
       "    </tr>\n",
       "    <tr>\n",
       "      <th>6</th>\n",
       "      <td>elbywan</td>\n",
       "      <td>wretch</td>\n",
       "      <td>https://github.com/elbywan/wretch</td>\n",
       "      <td>4.4k</td>\n",
       "    </tr>\n",
       "    <tr>\n",
       "      <th>7</th>\n",
       "      <td>dwyl</td>\n",
       "      <td>learn-to-send-email-via-google-script-html-no-...</td>\n",
       "      <td>https://github.com/dwyl/learn-to-send-email-vi...</td>\n",
       "      <td>3.1k</td>\n",
       "    </tr>\n",
       "    <tr>\n",
       "      <th>8</th>\n",
       "      <td>ded</td>\n",
       "      <td>reqwest</td>\n",
       "      <td>https://github.com/ded/reqwest</td>\n",
       "      <td>2.9k</td>\n",
       "    </tr>\n",
       "    <tr>\n",
       "      <th>9</th>\n",
       "      <td>wendux</td>\n",
       "      <td>ajax-hook</td>\n",
       "      <td>https://github.com/wendux/ajax-hook</td>\n",
       "      <td>2.5k</td>\n",
       "    </tr>\n",
       "    <tr>\n",
       "      <th>10</th>\n",
       "      <td>LeaVerou</td>\n",
       "      <td>bliss</td>\n",
       "      <td>https://github.com/LeaVerou/bliss</td>\n",
       "      <td>2.4k</td>\n",
       "    </tr>\n",
       "    <tr>\n",
       "      <th>11</th>\n",
       "      <td>noelboss</td>\n",
       "      <td>featherlight</td>\n",
       "      <td>https://github.com/noelboss/featherlight</td>\n",
       "      <td>2.1k</td>\n",
       "    </tr>\n",
       "    <tr>\n",
       "      <th>12</th>\n",
       "      <td>craftpip</td>\n",
       "      <td>jquery-confirm</td>\n",
       "      <td>https://github.com/craftpip/jquery-confirm</td>\n",
       "      <td>1.9k</td>\n",
       "    </tr>\n",
       "    <tr>\n",
       "      <th>13</th>\n",
       "      <td>taoensso</td>\n",
       "      <td>sente</td>\n",
       "      <td>https://github.com/taoensso/sente</td>\n",
       "      <td>1.7k</td>\n",
       "    </tr>\n",
       "    <tr>\n",
       "      <th>14</th>\n",
       "      <td>nette</td>\n",
       "      <td>tracy</td>\n",
       "      <td>https://github.com/nette/tracy</td>\n",
       "      <td>1.7k</td>\n",
       "    </tr>\n",
       "    <tr>\n",
       "      <th>15</th>\n",
       "      <td>k8w</td>\n",
       "      <td>tsrpc</td>\n",
       "      <td>https://github.com/k8w/tsrpc</td>\n",
       "      <td>1.7k</td>\n",
       "    </tr>\n",
       "    <tr>\n",
       "      <th>16</th>\n",
       "      <td>loadingio</td>\n",
       "      <td>css-spinner</td>\n",
       "      <td>https://github.com/loadingio/css-spinner</td>\n",
       "      <td>1.7k</td>\n",
       "    </tr>\n",
       "    <tr>\n",
       "      <th>17</th>\n",
       "      <td>joaomilho</td>\n",
       "      <td>Enterprise</td>\n",
       "      <td>https://github.com/joaomilho/Enterprise</td>\n",
       "      <td>1.6k</td>\n",
       "    </tr>\n",
       "    <tr>\n",
       "      <th>18</th>\n",
       "      <td>codingforentrepreneurs</td>\n",
       "      <td>eCommerce</td>\n",
       "      <td>https://github.com/codingforentrepreneurs/eCom...</td>\n",
       "      <td>1.5k</td>\n",
       "    </tr>\n",
       "    <tr>\n",
       "      <th>19</th>\n",
       "      <td>u014427391</td>\n",
       "      <td>jeeplatform</td>\n",
       "      <td>https://github.com/u014427391/jeeplatform</td>\n",
       "      <td>1.4k</td>\n",
       "    </tr>\n",
       "  </tbody>\n",
       "</table>\n",
       "</div>"
      ],
      "text/plain": [
       "                  username                                          repo_name  \\\n",
       "0                 ljianshu                                               Blog   \n",
       "1                metafizzy                                    infinite-scroll   \n",
       "2               olifolkerd                                          tabulator   \n",
       "3                developit                                            unfetch   \n",
       "4              jquery-form                                               form   \n",
       "5                Studio-42                                           elFinder   \n",
       "6                  elbywan                                             wretch   \n",
       "7                     dwyl  learn-to-send-email-via-google-script-html-no-...   \n",
       "8                      ded                                            reqwest   \n",
       "9                   wendux                                          ajax-hook   \n",
       "10                LeaVerou                                              bliss   \n",
       "11                noelboss                                       featherlight   \n",
       "12                craftpip                                     jquery-confirm   \n",
       "13                taoensso                                              sente   \n",
       "14                   nette                                              tracy   \n",
       "15                     k8w                                              tsrpc   \n",
       "16               loadingio                                        css-spinner   \n",
       "17               joaomilho                                         Enterprise   \n",
       "18  codingforentrepreneurs                                          eCommerce   \n",
       "19              u014427391                                        jeeplatform   \n",
       "\n",
       "                                             repo_url stars  \n",
       "0                    https://github.com/ljianshu/Blog  7.8k  \n",
       "1        https://github.com/metafizzy/infinite-scroll  7.4k  \n",
       "2             https://github.com/olifolkerd/tabulator  6.1k  \n",
       "3                https://github.com/developit/unfetch  5.7k  \n",
       "4                 https://github.com/jquery-form/form  5.2k  \n",
       "5               https://github.com/Studio-42/elFinder  4.5k  \n",
       "6                   https://github.com/elbywan/wretch  4.4k  \n",
       "7   https://github.com/dwyl/learn-to-send-email-vi...  3.1k  \n",
       "8                      https://github.com/ded/reqwest  2.9k  \n",
       "9                 https://github.com/wendux/ajax-hook  2.5k  \n",
       "10                  https://github.com/LeaVerou/bliss  2.4k  \n",
       "11           https://github.com/noelboss/featherlight  2.1k  \n",
       "12         https://github.com/craftpip/jquery-confirm  1.9k  \n",
       "13                  https://github.com/taoensso/sente  1.7k  \n",
       "14                     https://github.com/nette/tracy  1.7k  \n",
       "15                       https://github.com/k8w/tsrpc  1.7k  \n",
       "16           https://github.com/loadingio/css-spinner  1.7k  \n",
       "17            https://github.com/joaomilho/Enterprise  1.6k  \n",
       "18  https://github.com/codingforentrepreneurs/eCom...  1.5k  \n",
       "19          https://github.com/u014427391/jeeplatform  1.4k  "
      ]
     },
     "execution_count": 50,
     "metadata": {},
     "output_type": "execute_result"
    }
   ],
   "source": [
    "topic2_repos"
   ]
  },
  {
   "cell_type": "markdown",
   "id": "a0d50237-8305-4839-b32c-e21402679337",
   "metadata": {},
   "source": [
    "Write a single function to:\n",
    "1. Get the list of topics from the topics page\n",
    "2. Get the list of top repos from individual pages\n",
    "3. For each topic, create a CSV of the top repos of the topic"
   ]
  },
  {
   "cell_type": "code",
   "execution_count": 52,
   "id": "b41517a3-5988-439f-b0e9-ad92badac380",
   "metadata": {},
   "outputs": [],
   "source": [
    "def get_topic_titles(doc):\n",
    "    topic_title_class = 'f3 lh-condensed mb-0 mt-1 Link--primary'\n",
    "    topic_title_tags = doc.find_all('p', {'class': topic_title_class})\n",
    "    topic_titles = []\n",
    "    for tag in topic_title_tags:\n",
    "        topic_titles.append(tag.text)\n",
    "    return topic_titles\n",
    "\n",
    "def get_topic_description(doc):\n",
    "    topic_description_class = 'f5 color-fg-muted mb-0 mt-1'\n",
    "    topic_description_tags = doc.find_all('p', {'class': topic_description_class} )\n",
    "    topic_descriptions = []\n",
    "    for tag in topic_description_tags:\n",
    "        topic_descriptions.append(tag.text.strip())\n",
    "    return topic_descriptions\n",
    "\n",
    "def get_topic_url(doc):\n",
    "    topic_link_class = 'no-underline flex-1 d-flex flex-column'\n",
    "    topic_link_tags = doc.find_all('a', {'class': topic_link_class })\n",
    "    topic_urls = []\n",
    "    base_url = 'https://github.com'\n",
    "    for tag in topic_link_tags:\n",
    "        topic_urls.append(base_url + tag['href'])\n",
    "    return topic_urls\n",
    "    \n",
    "def scrape_topics():\n",
    "    response = requests.get(topics_url)\n",
    "    if response.status_code !=200:\n",
    "        raise Exception('Falied to load page {}'.format(topics_url))\n",
    "    doc = BeautifulSoup(response.text, 'html.parser')\n",
    "\n",
    "    topic_dict = {\n",
    "        'Title': get_topic_titles(doc),\n",
    "        'Description': get_topic_description(doc),\n",
    "        'URL': get_topic_url(doc)\n",
    "    }\n",
    "    return pd.DataFrame(topic_dict)"
   ]
  },
  {
   "cell_type": "code",
   "execution_count": 53,
   "id": "4916171e-2b1b-410e-992a-895c9bd42f79",
   "metadata": {},
   "outputs": [
    {
     "data": {
      "text/html": [
       "<div>\n",
       "<style scoped>\n",
       "    .dataframe tbody tr th:only-of-type {\n",
       "        vertical-align: middle;\n",
       "    }\n",
       "\n",
       "    .dataframe tbody tr th {\n",
       "        vertical-align: top;\n",
       "    }\n",
       "\n",
       "    .dataframe thead th {\n",
       "        text-align: right;\n",
       "    }\n",
       "</style>\n",
       "<table border=\"1\" class=\"dataframe\">\n",
       "  <thead>\n",
       "    <tr style=\"text-align: right;\">\n",
       "      <th></th>\n",
       "      <th>Title</th>\n",
       "      <th>Description</th>\n",
       "      <th>URL</th>\n",
       "    </tr>\n",
       "  </thead>\n",
       "  <tbody>\n",
       "    <tr>\n",
       "      <th>0</th>\n",
       "      <td>3D</td>\n",
       "      <td>3D refers to the use of three-dimensional grap...</td>\n",
       "      <td>https://github.com/topics/3d</td>\n",
       "    </tr>\n",
       "    <tr>\n",
       "      <th>1</th>\n",
       "      <td>Ajax</td>\n",
       "      <td>Ajax is a technique for creating interactive w...</td>\n",
       "      <td>https://github.com/topics/ajax</td>\n",
       "    </tr>\n",
       "    <tr>\n",
       "      <th>2</th>\n",
       "      <td>Algorithm</td>\n",
       "      <td>Algorithms are self-contained sequences that c...</td>\n",
       "      <td>https://github.com/topics/algorithm</td>\n",
       "    </tr>\n",
       "    <tr>\n",
       "      <th>3</th>\n",
       "      <td>Amp</td>\n",
       "      <td>Amp is a non-blocking concurrency library for ...</td>\n",
       "      <td>https://github.com/topics/amphp</td>\n",
       "    </tr>\n",
       "    <tr>\n",
       "      <th>4</th>\n",
       "      <td>Android</td>\n",
       "      <td>Android is an operating system built by Google...</td>\n",
       "      <td>https://github.com/topics/android</td>\n",
       "    </tr>\n",
       "    <tr>\n",
       "      <th>5</th>\n",
       "      <td>Angular</td>\n",
       "      <td>Angular is an open source web application plat...</td>\n",
       "      <td>https://github.com/topics/angular</td>\n",
       "    </tr>\n",
       "    <tr>\n",
       "      <th>6</th>\n",
       "      <td>Ansible</td>\n",
       "      <td>Ansible is a simple and powerful automation en...</td>\n",
       "      <td>https://github.com/topics/ansible</td>\n",
       "    </tr>\n",
       "    <tr>\n",
       "      <th>7</th>\n",
       "      <td>API</td>\n",
       "      <td>An API (Application Programming Interface) is ...</td>\n",
       "      <td>https://github.com/topics/api</td>\n",
       "    </tr>\n",
       "    <tr>\n",
       "      <th>8</th>\n",
       "      <td>Arduino</td>\n",
       "      <td>Arduino is an open source platform for buildin...</td>\n",
       "      <td>https://github.com/topics/arduino</td>\n",
       "    </tr>\n",
       "    <tr>\n",
       "      <th>9</th>\n",
       "      <td>ASP.NET</td>\n",
       "      <td>ASP.NET is a web framework for building modern...</td>\n",
       "      <td>https://github.com/topics/aspnet</td>\n",
       "    </tr>\n",
       "    <tr>\n",
       "      <th>10</th>\n",
       "      <td>Atom</td>\n",
       "      <td>Atom is a open source text editor built with w...</td>\n",
       "      <td>https://github.com/topics/atom</td>\n",
       "    </tr>\n",
       "    <tr>\n",
       "      <th>11</th>\n",
       "      <td>Awesome Lists</td>\n",
       "      <td>An awesome list is a list of awesome things cu...</td>\n",
       "      <td>https://github.com/topics/awesome</td>\n",
       "    </tr>\n",
       "    <tr>\n",
       "      <th>12</th>\n",
       "      <td>Amazon Web Services</td>\n",
       "      <td>Amazon Web Services provides on-demand cloud c...</td>\n",
       "      <td>https://github.com/topics/aws</td>\n",
       "    </tr>\n",
       "    <tr>\n",
       "      <th>13</th>\n",
       "      <td>Azure</td>\n",
       "      <td>Azure is a cloud computing service created by ...</td>\n",
       "      <td>https://github.com/topics/azure</td>\n",
       "    </tr>\n",
       "    <tr>\n",
       "      <th>14</th>\n",
       "      <td>Babel</td>\n",
       "      <td>Babel is a compiler for writing next generatio...</td>\n",
       "      <td>https://github.com/topics/babel</td>\n",
       "    </tr>\n",
       "    <tr>\n",
       "      <th>15</th>\n",
       "      <td>Bash</td>\n",
       "      <td>Bash is a shell and command language interpret...</td>\n",
       "      <td>https://github.com/topics/bash</td>\n",
       "    </tr>\n",
       "    <tr>\n",
       "      <th>16</th>\n",
       "      <td>Bitcoin</td>\n",
       "      <td>Bitcoin is a cryptocurrency developed by Satos...</td>\n",
       "      <td>https://github.com/topics/bitcoin</td>\n",
       "    </tr>\n",
       "    <tr>\n",
       "      <th>17</th>\n",
       "      <td>Bootstrap</td>\n",
       "      <td>Bootstrap is an HTML, CSS, and JavaScript fram...</td>\n",
       "      <td>https://github.com/topics/bootstrap</td>\n",
       "    </tr>\n",
       "    <tr>\n",
       "      <th>18</th>\n",
       "      <td>Bot</td>\n",
       "      <td>A bot is an application that runs automated ta...</td>\n",
       "      <td>https://github.com/topics/bot</td>\n",
       "    </tr>\n",
       "    <tr>\n",
       "      <th>19</th>\n",
       "      <td>C</td>\n",
       "      <td>C is a general purpose programming language th...</td>\n",
       "      <td>https://github.com/topics/c</td>\n",
       "    </tr>\n",
       "    <tr>\n",
       "      <th>20</th>\n",
       "      <td>Chrome</td>\n",
       "      <td>Chrome is a web browser from the tech company ...</td>\n",
       "      <td>https://github.com/topics/chrome</td>\n",
       "    </tr>\n",
       "    <tr>\n",
       "      <th>21</th>\n",
       "      <td>Chrome extension</td>\n",
       "      <td>Chrome extensions enable users to customize th...</td>\n",
       "      <td>https://github.com/topics/chrome-extension</td>\n",
       "    </tr>\n",
       "    <tr>\n",
       "      <th>22</th>\n",
       "      <td>Command line interface</td>\n",
       "      <td>A CLI, or command-line interface, is a console...</td>\n",
       "      <td>https://github.com/topics/cli</td>\n",
       "    </tr>\n",
       "    <tr>\n",
       "      <th>23</th>\n",
       "      <td>Clojure</td>\n",
       "      <td>Clojure is a dynamic, general-purpose programm...</td>\n",
       "      <td>https://github.com/topics/clojure</td>\n",
       "    </tr>\n",
       "    <tr>\n",
       "      <th>24</th>\n",
       "      <td>Code quality</td>\n",
       "      <td>Automate your code review with style, quality,...</td>\n",
       "      <td>https://github.com/topics/code-quality</td>\n",
       "    </tr>\n",
       "    <tr>\n",
       "      <th>25</th>\n",
       "      <td>Code review</td>\n",
       "      <td>Ensure your code meets quality standards and s...</td>\n",
       "      <td>https://github.com/topics/code-review</td>\n",
       "    </tr>\n",
       "    <tr>\n",
       "      <th>26</th>\n",
       "      <td>Compiler</td>\n",
       "      <td>Compilers are software that translate higher-l...</td>\n",
       "      <td>https://github.com/topics/compiler</td>\n",
       "    </tr>\n",
       "    <tr>\n",
       "      <th>27</th>\n",
       "      <td>Continuous integration</td>\n",
       "      <td>Automatically build and test your code as you ...</td>\n",
       "      <td>https://github.com/topics/continuous-integration</td>\n",
       "    </tr>\n",
       "    <tr>\n",
       "      <th>28</th>\n",
       "      <td>COVID-19</td>\n",
       "      <td>The coronavirus disease 2019 (COVID-19) is an ...</td>\n",
       "      <td>https://github.com/topics/covid-19</td>\n",
       "    </tr>\n",
       "    <tr>\n",
       "      <th>29</th>\n",
       "      <td>C++</td>\n",
       "      <td>C++ is a general purpose and object-oriented p...</td>\n",
       "      <td>https://github.com/topics/cpp</td>\n",
       "    </tr>\n",
       "  </tbody>\n",
       "</table>\n",
       "</div>"
      ],
      "text/plain": [
       "                     Title                                        Description  \\\n",
       "0                       3D  3D refers to the use of three-dimensional grap...   \n",
       "1                     Ajax  Ajax is a technique for creating interactive w...   \n",
       "2                Algorithm  Algorithms are self-contained sequences that c...   \n",
       "3                      Amp  Amp is a non-blocking concurrency library for ...   \n",
       "4                  Android  Android is an operating system built by Google...   \n",
       "5                  Angular  Angular is an open source web application plat...   \n",
       "6                  Ansible  Ansible is a simple and powerful automation en...   \n",
       "7                      API  An API (Application Programming Interface) is ...   \n",
       "8                  Arduino  Arduino is an open source platform for buildin...   \n",
       "9                  ASP.NET  ASP.NET is a web framework for building modern...   \n",
       "10                    Atom  Atom is a open source text editor built with w...   \n",
       "11           Awesome Lists  An awesome list is a list of awesome things cu...   \n",
       "12     Amazon Web Services  Amazon Web Services provides on-demand cloud c...   \n",
       "13                   Azure  Azure is a cloud computing service created by ...   \n",
       "14                   Babel  Babel is a compiler for writing next generatio...   \n",
       "15                    Bash  Bash is a shell and command language interpret...   \n",
       "16                 Bitcoin  Bitcoin is a cryptocurrency developed by Satos...   \n",
       "17               Bootstrap  Bootstrap is an HTML, CSS, and JavaScript fram...   \n",
       "18                     Bot  A bot is an application that runs automated ta...   \n",
       "19                       C  C is a general purpose programming language th...   \n",
       "20                  Chrome  Chrome is a web browser from the tech company ...   \n",
       "21        Chrome extension  Chrome extensions enable users to customize th...   \n",
       "22  Command line interface  A CLI, or command-line interface, is a console...   \n",
       "23                 Clojure  Clojure is a dynamic, general-purpose programm...   \n",
       "24            Code quality  Automate your code review with style, quality,...   \n",
       "25             Code review  Ensure your code meets quality standards and s...   \n",
       "26                Compiler  Compilers are software that translate higher-l...   \n",
       "27  Continuous integration  Automatically build and test your code as you ...   \n",
       "28                COVID-19  The coronavirus disease 2019 (COVID-19) is an ...   \n",
       "29                     C++  C++ is a general purpose and object-oriented p...   \n",
       "\n",
       "                                                 URL  \n",
       "0                       https://github.com/topics/3d  \n",
       "1                     https://github.com/topics/ajax  \n",
       "2                https://github.com/topics/algorithm  \n",
       "3                    https://github.com/topics/amphp  \n",
       "4                  https://github.com/topics/android  \n",
       "5                  https://github.com/topics/angular  \n",
       "6                  https://github.com/topics/ansible  \n",
       "7                      https://github.com/topics/api  \n",
       "8                  https://github.com/topics/arduino  \n",
       "9                   https://github.com/topics/aspnet  \n",
       "10                    https://github.com/topics/atom  \n",
       "11                 https://github.com/topics/awesome  \n",
       "12                     https://github.com/topics/aws  \n",
       "13                   https://github.com/topics/azure  \n",
       "14                   https://github.com/topics/babel  \n",
       "15                    https://github.com/topics/bash  \n",
       "16                 https://github.com/topics/bitcoin  \n",
       "17               https://github.com/topics/bootstrap  \n",
       "18                     https://github.com/topics/bot  \n",
       "19                       https://github.com/topics/c  \n",
       "20                  https://github.com/topics/chrome  \n",
       "21        https://github.com/topics/chrome-extension  \n",
       "22                     https://github.com/topics/cli  \n",
       "23                 https://github.com/topics/clojure  \n",
       "24            https://github.com/topics/code-quality  \n",
       "25             https://github.com/topics/code-review  \n",
       "26                https://github.com/topics/compiler  \n",
       "27  https://github.com/topics/continuous-integration  \n",
       "28                https://github.com/topics/covid-19  \n",
       "29                     https://github.com/topics/cpp  "
      ]
     },
     "execution_count": 53,
     "metadata": {},
     "output_type": "execute_result"
    }
   ],
   "source": [
    "scrape_topics()"
   ]
  },
  {
   "cell_type": "code",
   "execution_count": 66,
   "id": "80e0d579-398b-4661-b8ea-84f6aa080b05",
   "metadata": {},
   "outputs": [],
   "source": [
    "def scrape_topic_repos():\n",
    "    topics_df = scrape_topics()\n",
    "    for index, row in topic_df.iterrows():\n",
    "        print('Scrapping top repositories for \"{}\" topic.'.format(row['Title']))\n",
    "        scrape_topic(row['URL'], row['Title'])"
   ]
  },
  {
   "cell_type": "code",
   "execution_count": 70,
   "id": "08db4956-99c5-419f-929d-0f9abd53d0db",
   "metadata": {},
   "outputs": [
    {
     "name": "stdout",
     "output_type": "stream",
     "text": [
      "Scrapping top repositories for \"3D\" topic.\n",
      "The file 3D.csv already exists. Skipping..\n",
      "Scrapping top repositories for \"Ajax\" topic.\n",
      "The file Ajax.csv already exists. Skipping..\n",
      "Scrapping top repositories for \"Algorithm\" topic.\n",
      "The file Algorithm.csv already exists. Skipping..\n",
      "Scrapping top repositories for \"Amp\" topic.\n",
      "The file Amp.csv already exists. Skipping..\n",
      "Scrapping top repositories for \"Android\" topic.\n",
      "The file Android.csv already exists. Skipping..\n",
      "Scrapping top repositories for \"Angular\" topic.\n",
      "The file Angular.csv already exists. Skipping..\n",
      "Scrapping top repositories for \"Ansible\" topic.\n",
      "The file Ansible.csv already exists. Skipping..\n",
      "Scrapping top repositories for \"API\" topic.\n",
      "The file API.csv already exists. Skipping..\n",
      "Scrapping top repositories for \"Arduino\" topic.\n",
      "The file Arduino.csv already exists. Skipping..\n",
      "Scrapping top repositories for \"ASP.NET\" topic.\n",
      "The file ASP.NET.csv already exists. Skipping..\n",
      "Scrapping top repositories for \"Atom\" topic.\n",
      "The file Atom.csv already exists. Skipping..\n",
      "Scrapping top repositories for \"Awesome Lists\" topic.\n",
      "The file Awesome Lists.csv already exists. Skipping..\n",
      "Scrapping top repositories for \"Amazon Web Services\" topic.\n",
      "The file Amazon Web Services.csv already exists. Skipping..\n",
      "Scrapping top repositories for \"Azure\" topic.\n",
      "The file Azure.csv already exists. Skipping..\n",
      "Scrapping top repositories for \"Babel\" topic.\n",
      "The file Babel.csv already exists. Skipping..\n",
      "Scrapping top repositories for \"Bash\" topic.\n",
      "The file Bash.csv already exists. Skipping..\n",
      "Scrapping top repositories for \"Bitcoin\" topic.\n",
      "The file Bitcoin.csv already exists. Skipping..\n",
      "Scrapping top repositories for \"Bootstrap\" topic.\n",
      "The file Bootstrap.csv already exists. Skipping..\n",
      "Scrapping top repositories for \"Bot\" topic.\n",
      "The file Bot.csv already exists. Skipping..\n",
      "Scrapping top repositories for \"C\" topic.\n",
      "The file C.csv already exists. Skipping..\n",
      "Scrapping top repositories for \"Chrome\" topic.\n",
      "The file Chrome.csv already exists. Skipping..\n",
      "Scrapping top repositories for \"Chrome extension\" topic.\n",
      "The file Chrome extension.csv already exists. Skipping..\n",
      "Scrapping top repositories for \"Command line interface\" topic.\n",
      "The file Command line interface.csv already exists. Skipping..\n",
      "Scrapping top repositories for \"Clojure\" topic.\n",
      "The file Clojure.csv already exists. Skipping..\n",
      "Scrapping top repositories for \"Code quality\" topic.\n",
      "The file Code quality.csv already exists. Skipping..\n",
      "Scrapping top repositories for \"Code review\" topic.\n",
      "The file Code review.csv already exists. Skipping..\n",
      "Scrapping top repositories for \"Compiler\" topic.\n",
      "The file Compiler.csv already exists. Skipping..\n",
      "Scrapping top repositories for \"Continuous integration\" topic.\n",
      "The file Continuous integration.csv already exists. Skipping..\n",
      "Scrapping top repositories for \"COVID-19\" topic.\n",
      "The file COVID-19.csv already exists. Skipping..\n",
      "Scrapping top repositories for \"C++\" topic.\n",
      "The file C++.csv already exists. Skipping..\n"
     ]
    }
   ],
   "source": [
    "scrape_topic_repos()"
   ]
  }
 ],
 "metadata": {
  "kernelspec": {
   "display_name": "Python 3 (ipykernel)",
   "language": "python",
   "name": "python3"
  },
  "language_info": {
   "codemirror_mode": {
    "name": "ipython",
    "version": 3
   },
   "file_extension": ".py",
   "mimetype": "text/x-python",
   "name": "python",
   "nbconvert_exporter": "python",
   "pygments_lexer": "ipython3",
   "version": "3.11.7"
  }
 },
 "nbformat": 4,
 "nbformat_minor": 5
}
